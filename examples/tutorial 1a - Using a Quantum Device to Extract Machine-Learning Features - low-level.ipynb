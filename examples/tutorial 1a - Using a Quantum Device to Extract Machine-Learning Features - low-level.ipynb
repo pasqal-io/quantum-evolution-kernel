{
 "cells": [
  {
   "cell_type": "markdown",
   "metadata": {},
   "source": [
    "# Tutorial 1: using a Quantum Device to extract machine-learning features\n",
    "\n",
    "This notebook reproduces the first part of the [QEK paper](https://journals.aps.org/pra/abstract/10.1103/PhysRevA.107.042615) using the library's low-level API.\n",
    "\n",
    "By the end of this notebook, you will be know how to:\n",
    "\n",
    "1. Import a dataset composed of molecular data (the library supports other type of graphs, of course).\n",
    "2. Compile a register and a sequence of pulses from each graph.\n",
    "3. Launch the execution of this compiled sequence on a quantum emulator or a physical QPU.\n",
    "4. Use the result to extract machine-learning features.\n",
    "\n",
    "A [companion notebook](./tutorial%20220-20Machine20Learning20with20QEK.ipynb) reproduces the machine-learning part of the QEK paper.\n",
    "\n",
    "If you are not interested in quantum-level details, you may prefer the companion [high-level notebook](./tutorial%201%20-%20Using%20a%20Quantum%20Device%20to%20Extract%20Machine-Learning%20Features%20copy.ipynb) that mirrors this notebook, but using a higher-level API that takes care of all such issues."
   ]
  },
  {
   "cell_type": "markdown",
   "metadata": {},
   "source": [
    "## Dataset preparation\n",
    "\n",
    "As in any machine learning task, we first need to load and prepare data. QEK can work with many types of graphs, including molecular graphs. For this tutorial, we will use the PTC-FM dataset, which contains such molecular graphs."
   ]
  },
  {
   "cell_type": "code",
   "execution_count": 3,
   "metadata": {},
   "outputs": [
    {
     "data": {
      "text/plain": [
       "'Loaded 349 samples'"
      ]
     },
     "metadata": {},
     "output_type": "display_data"
    }
   ],
   "source": [
    "# Load the original PTC-FM dataset\n",
    "import torch_geometric.datasets as pyg_dataset\n",
    "og_ptcfm = [data for data in pyg_dataset.TUDataset(root=\"dataset\", name=\"PTC_FM\")]\n",
    "\n",
    "display(\"Loaded %s samples\" % (len(og_ptcfm), ))"
   ]
  },
  {
   "cell_type": "markdown",
   "metadata": {},
   "source": [
    "This package lets researchers embed _graphs_ on Analog Quantum Devices. To do this, we need to give these graphs a geometry (their positions in,\n",
    "space) and to confirm that the geometry is compatible with a Quantum Device.\n",
    "\n",
    "This package builds upon the [Pulser framework](https://pulser.readthedocs.io/). Our objective, in this notebook, is to _compile_ graphs\n",
    "into _Pulser Sequences_, the format understood by our Quantum Devices. In turn, a Pulser Sequence is defined by a target Quantum Device,\n",
    "a _Pulser Register_ (the position of qubits) and _Pulser Pulses_ (the laser impulses controlling the evolution of the analog device).\n",
    "\n",
    "As the geometry depends on the Quantum Device, we need to specify a device to use. For the time being, we'll use Pulser's `AnalogDevice`, which is\n",
    "a reasonable default device. We'll show you a bit further how to use another device.\n",
    "\n",
    "In this example, our graphs are representations of molecules. To simplify things, we'll use the dedicated class\n",
    "`qek.data.graphs.MoleculeGraph` that use bio-chemical tools to compute a reasonable geometry from molecular data for a specific\n",
    "Quantum Device. For other classes of graph, you will need to decide how to compute the geometry and use `qek.data.graphs.BaseGraph`.\n",
    "\n"
   ]
  },
  {
   "cell_type": "code",
   "execution_count": 38,
   "metadata": {},
   "outputs": [
    {
     "name": "stderr",
     "output_type": "stream",
     "text": [
      "100%|██████████| 349/349 [00:00<00:00, 649.85it/s]\n"
     ]
    }
   ],
   "source": [
    "from tqdm import tqdm\n",
    "import pulser as pl\n",
    "import qek.data.graphs as qek_graphs\n",
    "\n",
    "\n",
    "graphs_to_compile = []\n",
    "\n",
    "for i, data in enumerate(tqdm(og_ptcfm)):\n",
    "    graph = qek_graphs.MoleculeGraph(data=data, device=pl.AnalogDevice, id=i)\n",
    "    graphs_to_compile.append(graph)\n"
   ]
  },
  {
   "cell_type": "markdown",
   "metadata": {},
   "source": [
    "## Create a Pulser sequence\n",
    "\n",
    "Once the embedding is found, we create a Pulser Sequence that can be interpreted by a Quantum Device.\n",
    "\n",
    "Not all graphs can be embedded on a given device. In this notebook, for the sake of simplicity, we simply discard graphs that cannot be trivially embedded. Future versions of this library may succeed at embedding more graphs."
   ]
  },
  {
   "cell_type": "code",
   "execution_count": 39,
   "metadata": {},
   "outputs": [
    {
     "name": "stderr",
     "output_type": "stream",
     "text": [
      "  4%|▍         | 15/349 [00:00<00:02, 146.63it/s]"
     ]
    },
    {
     "name": "stdout",
     "output_type": "stream",
     "text": [
      "Sequence 1 cannot be compiled for this device\n",
      "Sequence 16 cannot be compiled for this device\n",
      "Sequence 23 cannot be compiled for this device\n",
      "Sequence 25 cannot be compiled for this device\n",
      "Sequence 26 cannot be compiled for this device\n",
      "Sequence 34 cannot be compiled for this device\n",
      "Sequence 40 cannot be compiled for this device\n"
     ]
    },
    {
     "name": "stderr",
     "output_type": "stream",
     "text": [
      " 12%|█▏        | 43/349 [00:00<00:01, 218.89it/s]ERROR:root:min distance: array(4.9999988)\n",
      " 20%|█▉        | 69/349 [00:00<00:01, 237.12it/s]"
     ]
    },
    {
     "name": "stdout",
     "output_type": "stream",
     "text": [
      "Sequence 43 cannot be compiled for this device\n",
      "Sequence 53 cannot be compiled for this device\n",
      "Sequence 58 cannot be compiled for this device\n",
      "Sequence 60 cannot be compiled for this device\n",
      "Sequence 61 cannot be compiled for this device\n",
      "Sequence 62 cannot be compiled for this device\n",
      "Sequence 65 cannot be compiled for this device\n",
      "Sequence 68 cannot be compiled for this device\n",
      "Sequence 78 cannot be compiled for this device\n",
      "Sequence 86 cannot be compiled for this device\n"
     ]
    },
    {
     "name": "stderr",
     "output_type": "stream",
     "text": [
      " 27%|██▋       | 93/349 [00:00<00:01, 224.74it/s]ERROR:root:min distance: array(4.99999885)\n",
      " 34%|███▍      | 118/349 [00:00<00:01, 227.39it/s]ERROR:root:min distance: array(4.99999896)\n",
      "ERROR:root:min distance: array(4.99999891)\n",
      " 42%|████▏     | 146/349 [00:00<00:00, 242.38it/s]"
     ]
    },
    {
     "name": "stdout",
     "output_type": "stream",
     "text": [
      "Sequence 97 cannot be compiled for this device\n",
      "Sequence 101 cannot be compiled for this device\n",
      "Sequence 104 cannot be compiled for this device\n",
      "Sequence 105 cannot be compiled for this device\n",
      "Sequence 107 cannot be compiled for this device\n",
      "Sequence 115 cannot be compiled for this device\n",
      "Sequence 117 cannot be compiled for this device\n",
      "Sequence 118 cannot be compiled for this device\n",
      "Sequence 122 cannot be compiled for this device\n",
      "Sequence 126 cannot be compiled for this device\n",
      "Sequence 127 cannot be compiled for this device\n",
      "Sequence 128 cannot be compiled for this device\n",
      "Sequence 129 cannot be compiled for this device\n",
      "Sequence 132 cannot be compiled for this device\n",
      "Sequence 135 cannot be compiled for this device\n",
      "Sequence 144 cannot be compiled for this device\n"
     ]
    },
    {
     "name": "stderr",
     "output_type": "stream",
     "text": [
      "ERROR:root:min distance: array(4.99999886)\n",
      " 49%|████▉     | 171/349 [00:00<00:00, 221.65it/s]"
     ]
    },
    {
     "name": "stdout",
     "output_type": "stream",
     "text": [
      "Sequence 155 cannot be compiled for this device\n",
      "Sequence 157 cannot be compiled for this device\n",
      "Sequence 165 cannot be compiled for this device\n",
      "Sequence 166 cannot be compiled for this device\n",
      "Sequence 169 cannot be compiled for this device\n",
      "Sequence 171 cannot be compiled for this device\n",
      "Sequence 175 cannot be compiled for this device\n",
      "Sequence 181 cannot be compiled for this device\n",
      "Sequence 185 cannot be compiled for this device\n",
      "Sequence 186 cannot be compiled for this device\n"
     ]
    },
    {
     "name": "stderr",
     "output_type": "stream",
     "text": [
      " 62%|██████▏   | 218/349 [00:00<00:00, 215.75it/s]"
     ]
    },
    {
     "name": "stdout",
     "output_type": "stream",
     "text": [
      "Sequence 193 cannot be compiled for this device\n",
      "Sequence 197 cannot be compiled for this device\n",
      "Sequence 203 cannot be compiled for this device\n",
      "Sequence 204 cannot be compiled for this device\n",
      "Sequence 206 cannot be compiled for this device\n",
      "Sequence 208 cannot be compiled for this device\n",
      "Sequence 214 cannot be compiled for this device\n",
      "Sequence 215 cannot be compiled for this device\n",
      "Sequence 220 cannot be compiled for this device\n",
      "Sequence 224 cannot be compiled for this device\n"
     ]
    },
    {
     "name": "stderr",
     "output_type": "stream",
     "text": [
      " 75%|███████▌  | 262/349 [00:01<00:00, 212.38it/s]ERROR:root:min distance: array(4.99999887)\n"
     ]
    },
    {
     "name": "stdout",
     "output_type": "stream",
     "text": [
      "Sequence 238 cannot be compiled for this device\n",
      "Sequence 239 cannot be compiled for this device\n",
      "Sequence 243 cannot be compiled for this device\n",
      "Sequence 244 cannot be compiled for this device\n",
      "Sequence 245 cannot be compiled for this device\n",
      "Sequence 246 cannot be compiled for this device\n",
      "Sequence 247 cannot be compiled for this device\n",
      "Sequence 259 cannot be compiled for this device\n",
      "Sequence 260 cannot be compiled for this device\n",
      "Sequence 264 cannot be compiled for this device\n",
      "Sequence 268 cannot be compiled for this device\n",
      "Sequence 269 cannot be compiled for this device\n",
      "Sequence 270 cannot be compiled for this device\n",
      "Sequence 273 cannot be compiled for this device\n",
      "Sequence 278 cannot be compiled for this device\n",
      "Sequence 279 cannot be compiled for this device\n",
      "Sequence 281 cannot be compiled for this device\n",
      "Sequence 284 cannot be compiled for this device\n"
     ]
    },
    {
     "name": "stderr",
     "output_type": "stream",
     "text": [
      " 89%|████████▊ | 309/349 [00:01<00:00, 212.49it/s]ERROR:root:min distance: array(4.99999897)\n",
      "100%|██████████| 349/349 [00:01<00:00, 218.01it/s]"
     ]
    },
    {
     "name": "stdout",
     "output_type": "stream",
     "text": [
      "Sequence 313 cannot be compiled for this device\n",
      "Sequence 319 cannot be compiled for this device\n",
      "Sequence 327 cannot be compiled for this device\n",
      "Sequence 333 cannot be compiled for this device\n",
      "Sequence 338 cannot be compiled for this device\n",
      "Sequence 342 cannot be compiled for this device\n",
      "Compiled 272 sequences\n"
     ]
    },
    {
     "name": "stderr",
     "output_type": "stream",
     "text": [
      "\n"
     ]
    }
   ],
   "source": [
    "compiled = [] \n",
    "\n",
    "for graph in tqdm(graphs_to_compile):\n",
    "    sequence = None\n",
    "    try:\n",
    "        sequence = graph.compute_sequence()\n",
    "    except ValueError:\n",
    "        # Let's just skip graphs that cannot be computed.\n",
    "        print(\"Sequence %s cannot be compiled for this device\" % (graph.id, ))\n",
    "        continue\n",
    "    if sequence is not None:\n",
    "        compiled.append((graph, sequence))\n",
    "print(\"Compiled %s sequences\" % (len(compiled, )))"
   ]
  },
  {
   "cell_type": "markdown",
   "metadata": {},
   "source": [
    "Let's take a look at some of these sequences."
   ]
  },
  {
   "cell_type": "code",
   "execution_count": 40,
   "metadata": {},
   "outputs": [
    {
     "data": {
      "image/png": "[encoded data removed]",
      "text/plain": [
       "<Figure size 543.74x200 with 1 Axes>"
      ]
     },
     "metadata": {},
     "output_type": "display_data"
    },
    {
     "data": {
      "image/png": "[encoded data removed]",
      "text/plain": [
       "<Figure size 2000x300 with 2 Axes>"
      ]
     },
     "metadata": {},
     "output_type": "display_data"
    }
   ],
   "source": [
    "example_graph, example_sequence = compiled[64]\n",
    "\n",
    "# The molecule, as laid out on the Quantum Device.\n",
    "example_sequence.register.draw(blockade_radius=pl.AnalogDevice.min_atom_distance + 0.01)\n",
    "\n",
    "# The laser pulse used to control its state evolution.\n",
    "example_sequence.draw()"
   ]
  },
  {
   "cell_type": "markdown",
   "metadata": {},
   "source": [
    "## Experimenting with registers and pulses\n",
    "\n",
    "You can, of course, adopt different registers or pulses."
   ]
  },
  {
   "cell_type": "code",
   "execution_count": 49,
   "metadata": {},
   "outputs": [],
   "source": [
    "import pulser\n",
    "\n",
    "alternative_sequence = pulser.Sequence(              # A sequence of 0 pulses.\n",
    "    pulser.Register({\"q0\": (0, 0)}), # A single atom, called q0, at the center of the device.\n",
    "    pulser.AnalogDevice                       # A generic analog quantum computer.\n",
    ")\n"
   ]
  },
  {
   "cell_type": "markdown",
   "metadata": {},
   "source": [
    "For this, you'll probably want to take a look at [the documentation of Pulser](https://pulser.readthedocs.io/)."
   ]
  },
  {
   "cell_type": "markdown",
   "metadata": {},
   "source": [
    "\n",
    "# Executing the compiled sequences on an emulator\n",
    "\n",
    "While our objective is to run the sequences on a physical QPU, it is generally a good idea to test out some of these sequences on an emulator first. For this example, we'll use the QutipEmulator, the simplest emulator provided with Pulser."
   ]
  },
  {
   "cell_type": "code",
   "execution_count": 53,
   "metadata": {},
   "outputs": [
    {
     "name": "stderr",
     "output_type": "stream",
     "text": [
      "100%|██████████| 272/272 [00:01<00:00, 177.97it/s]\n"
     ]
    }
   ],
   "source": [
    "from pulser_simulation import QutipEmulator\n",
    "from qek.data.dataset import ProcessedData\n",
    "\n",
    "# In this tutorial, to make things faster, we'll only run the sequences that require 5 qubits or less.\n",
    "# If you wish to run more entries, feel free to increase this value.\n",
    "#\n",
    "# # Warning\n",
    "#\n",
    "# Emulating a Quantum Device takes exponential amount of resources and time! If you set MAX_QUBITS too\n",
    "# high, you can bring your computer to its knees and/or crash this notebook.\n",
    "MAX_QUBITS = 5\n",
    "\n",
    "processed_dataset = []\n",
    "for graph, sequence in tqdm(compiled):\n",
    "    if len(sequence.qubit_info) > MAX_QUBITS:\n",
    "        continue\n",
    "    simulator = QutipEmulator.from_sequence(sequence=sequence)\n",
    "    states = simulator.run().sample_final_state()\n",
    "    processed_dataset.append(ProcessedData(sequence=sequence, state_dict=states, target=graph.target))"
   ]
  },
  {
   "cell_type": "markdown",
   "metadata": {},
   "source": [
    "As mentioned, there are limits to what an emulator can do.\n",
    "\n",
    "Pasqal has also developed an emulator called emu-mps, which generally provides much better performance and resource usage, so if you hit resource limits, don't hesitate to [check it out](https://github.com/pasqal-io/emulators)!"
   ]
  },
  {
   "cell_type": "markdown",
   "metadata": {},
   "source": [
    "# Executing compiled sequences on a QPU\n",
    "\n",
    "Once you have checked that the pulses work on an emulator, you will probably want to move to a QPU. Execution on a QPU takes\n",
    "resources polynomial in the number of qubits, which hopefully means an almost exponential speedup for large number of qubits.\n",
    "\n",
    "To experiment with a QPU, you will need either physical access to a QPU, or an account with [PASQAL Cloud](https://docs.pasqal.cloud), which provides you remote access to QPUs built and hosted by Pasqal. In this section, we'll see how to use the latter.\n",
    "\n",
    "If you don't have an account, just skip to the next section!"
   ]
  },
  {
   "cell_type": "code",
   "execution_count": 54,
   "metadata": {},
   "outputs": [],
   "source": [
    "HAVE_PASQAL_ACCOUNT = False # If you have a PASQAL Cloud account, fill in the details and set this to `True`.\n",
    "\n",
    "if HAVE_PASQAL_ACCOUNT: \n",
    "    processed_dataset = []\n",
    "\n",
    "    # Initialize connection\n",
    "    from pulser.json.abstract_repr.deserializer import deserialize_device\n",
    "    from pasqal_cloud import SDK\n",
    "\n",
    "    my_project_id = \"your_project_id\"# Replace this value with your project_id on the PASQAL platform.\n",
    "    my_username   = \"your_username\"  # Replace this value with your username or email on the PASQAL platform.\n",
    "    my_password   = \"your_password\"  # Replace this value with your password on the PASQAL platform.\n",
    "        # Security note: In real life, you probably don't want to write your password in the code.\n",
    "        # See the documentation of PASQAL Cloud for other ways to provide your password.\n",
    "\n",
    "    # Initialize the cloud client\n",
    "    sdk = SDK(username=my_username, project_id=my_project_id, password=my_password)\n",
    "\n",
    "    # Fetch the latest lists of QPUs\n",
    "    specs = sdk.get_device_specs_dict()\n",
    "    # We'll use \"Fresnel\", generally the recommended QPU on PASQAL Cloud as of this writing.\n",
    "    device = deserialize_device(specs[\"FRESNEL\"])\n",
    "\n",
    "    # As previously, create the list of graphs and embed them.\n",
    "    graphs_to_compile = []\n",
    "    for i, data in enumerate(tqdm(og_ptcfm)):\n",
    "        graph = qek_graphs.MoleculeGraph(data=data, device=device, id=i)\n",
    "        graphs_to_compile.append(graph)\n",
    "\n",
    "    compiled = []\n",
    "    for graph in tqdm(graphs_to_compile):\n",
    "        sequence = None\n",
    "        try:\n",
    "            sequence = graph.compute_sequence()\n",
    "        except ValueError:\n",
    "            # Let's just skip graphs that cannot be computed.\n",
    "            print(\"Sequence %s cannot be compiled for this device\" % (graph.id, ))\n",
    "            continue\n",
    "        if sequence is not None:\n",
    "            compiled.append((graph, sequence))\n",
    "\n",
    "    # Now that the connection is initialized, we just have to send the work\n",
    "    # to the QPU and wait for the results.\n",
    "    for graph, sequence in tqdm(compiled):\n",
    "\n",
    "        # Send the work to the QPU.\n",
    "        batch = sdk.create_batch(\n",
    "            # The sequence.\n",
    "            sequence.to_abstract_repr(),\n",
    "\n",
    "            # Run each sequence 1000 times to refine results. Recall that quantum computations\n",
    "            # are probabilistic, so you need to run each sequence many times to progressively\n",
    "            # refine your probability distribution.\n",
    "            jobs=[{\"runs\": 1000}],\n",
    "\n",
    "            # And wait for the results.\n",
    "            #\n",
    "            # WARNING\n",
    "            #\n",
    "            # # Wait lines\n",
    "            #\n",
    "            # As of this writing, the waiting line to access a QPU can be very long (typically\n",
    "            # several hours). Argument `wait=True` will stop your program until the batch has\n",
    "            # completed. You will have to determine whether that's what you want.\n",
    "            wait=True,\n",
    "        )\n",
    "\n",
    "        # The sdk returns a single job.\n",
    "        job = batch.jobs[0]\n",
    "        assert job.status == \"DONE\"\n",
    "        states = job.result\n",
    "        processed_dataset.append(ProcessedData(sequence=sequence, state_dict=states, target=graph.target))"
   ]
  },
  {
   "cell_type": "markdown",
   "metadata": {},
   "source": [
    "There are other ways to use the SDK. For instance, you can enqueue a job and check later whether it has completed. Also, to work around the long waiting lines, Pasqal provides high-performance distributed and hardware-accelerated emulators, which you can access through the SDK.\n",
    "\n",
    "For more details, [take a look at the documentation of the SDK](https://docs.pasqal.cloud/).\n"
   ]
  },
  {
   "cell_type": "markdown",
   "metadata": {},
   "source": [
    "## ...or using the provided dataset\n",
    "\n",
    "For this notebook, instead of spending hours running the simulator on your computer, we're going to skip\n",
    "this step and load on we're going to cheat and load the results, which are conveniently stored in `ptcfm_processed_dataset.json`."
   ]
  },
  {
   "cell_type": "code",
   "execution_count": null,
   "metadata": {},
   "outputs": [],
   "source": [
    "import qek.data.dataset as qek_dataset\n",
    "processed_dataset = qek_dataset.load_dataset(file_path=\"ptcfm_processed_dataset.json\")\n",
    "print(f\"Size of the quantum compatible dataset = {len(processed_dataset)}\")"
   ]
  },
  {
   "cell_type": "markdown",
   "metadata": {},
   "source": [
    "## A look at the results"
   ]
  },
  {
   "cell_type": "markdown",
   "metadata": {},
   "source": [
    "We can check the sequence for one of the samples:"
   ]
  },
  {
   "cell_type": "code",
   "execution_count": null,
   "metadata": {},
   "outputs": [],
   "source": [
    "dataset_example = processed_dataset[64]\n",
    "dataset_example.draw_sequence()"
   ]
  },
  {
   "cell_type": "code",
   "execution_count": null,
   "metadata": {},
   "outputs": [],
   "source": [
    "dataset_example.draw_register()"
   ]
  },
  {
   "cell_type": "markdown",
   "metadata": {},
   "source": [
    "The results of executing the embedding on the Quantum Device are in field `state_dict`:"
   ]
  },
  {
   "cell_type": "code",
   "execution_count": null,
   "metadata": {},
   "outputs": [],
   "source": [
    "display(dataset_example.state_dict)\n",
    "print(f\"Total number of samples: {sum(dataset_example.state_dict.values())}\")"
   ]
  },
  {
   "cell_type": "markdown",
   "metadata": {},
   "source": [
    "This dictionary represents an approximation of the quantum state of the device for this graph after completion of the algorithm.\n",
    "\n",
    "- each of the keys represents one possible state for the register (which represents the graph), with each qubit (which represents a single node) being in state `0` or `1`;\n",
    "- the corresponding value is the number of samples observed with this specific state of the register.\n",
    "\n",
    "In this example, for instance, we can see that the state observed most frequently is `10000001010`, with 43/1000 samples.\n"
   ]
  },
  {
   "cell_type": "markdown",
   "metadata": {},
   "source": [
    "## Machine learning-features\n",
    "\n",
    "From the state dictionary, we derive as machine-learning feature the _distribution of excitation_. We'll use this in the next notebook to define our kernel."
   ]
  },
  {
   "cell_type": "code",
   "execution_count": null,
   "metadata": {},
   "outputs": [],
   "source": [
    "dataset_example.draw_excitation()"
   ]
  },
  {
   "cell_type": "markdown",
   "metadata": {},
   "source": [
    "# What now?\n",
    "\n",
    "What we have seen so far covers the use of a Quantum Device to extract machine-learning features.\n",
    "\n",
    "For the next step, we'll see [how to use these features for machine learning](TODO)."
   ]
  }
 ],
 "metadata": {
  "kernelspec": {
   "display_name": "quantum-evolution-kernel",
   "language": "python",
   "name": "python3"
  },
  "language_info": {
   "codemirror_mode": {
    "name": "ipython",
    "version": 3
   },
   "file_extension": ".py",
   "mimetype": "text/x-python",
   "name": "python",
   "nbconvert_exporter": "python",
   "pygments_lexer": "ipython3",
   "version": "3.12.3"
  }
 },
 "nbformat": 4,
 "nbformat_minor": 4
}
