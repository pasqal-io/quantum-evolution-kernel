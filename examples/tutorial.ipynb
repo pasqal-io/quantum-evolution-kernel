{
 "cells": [
  {
   "cell_type": "markdown",
   "metadata": {},
   "source": [
    "# QEK from A to Z\n",
    "\n",
    "This notebook reproduces the results of the [QEK paper](https://journals.aps.org/pra/abstract/10.1103/PhysRevA.107.042615).\n",
    "\n",
    "At the end, you will be able to:\n",
    "1. Extract the embeddings of a molecular dataset\n",
    "2. Compile these embeddings into Pulse sequences for use on a Quantum Device or an amulator.\n",
    "3. Run the Pulse sequences on a Quantum Device or an emulator.\n",
    "4. Train an SVM with the QEK (Quantum Evolution Kernel) kernel and benchmark the performance reported in the paper.\n"
   ]
  },
  {
   "cell_type": "code",
   "execution_count": 1,
   "metadata": {},
   "outputs": [
    {
     "name": "stderr",
     "output_type": "stream",
     "text": [
      "/tmp/ipykernel_3710336/2533359462.py:8: TqdmExperimentalWarning: Using `tqdm.autonotebook.tqdm` in notebook mode. Use `tqdm.tqdm` instead to force console mode (e.g. in jupyter console)\n",
      "  from tqdm.autonotebook import tqdm\n"
     ]
    }
   ],
   "source": [
    "from __future__ import annotations\n",
    "\n",
    "from dataclasses import dataclass\n",
    "\n",
    "import numpy as np\n",
    "import pulser as pl\n",
    "import torch_geometric.datasets as pyg_dataset\n",
    "from tqdm.autonotebook import tqdm\n"
   ]
  },
  {
   "cell_type": "markdown",
   "metadata": {},
   "source": [
    "## Dataset preparation\n",
    "\n",
    "In this part, we will prepare the PTC-FM dataset so that it can be submitted to the QPU (Quantum Processing Unit) of Pasqal."
   ]
  },
  {
   "cell_type": "code",
   "execution_count": 2,
   "metadata": {},
   "outputs": [],
   "source": [
    "# Loading of the original PTC-FM dataset\n",
    "og_ptcfm = pyg_dataset.TUDataset(root=\"dataset\", name=\"PTC_FM\")"
   ]
  },
  {
   "cell_type": "code",
   "execution_count": 3,
   "metadata": {},
   "outputs": [],
   "source": [
    "import qek.data.datatools as qek_datatools"
   ]
  },
  {
   "cell_type": "markdown",
   "metadata": {},
   "source": [
    "# Graph embedding\n",
    "\n",
    "This package lets researchers embed _graphs_ on Quantum Devices. To do this, we need to give these graphs a geometry (positions in\n",
    "space) and to confirm that the geometry is compatible with a Quantum Device. Here, our dataset consists in molecules (represented\n",
    "as graphs). To simplify things, we'll use the dedicated class `qek_datatools.MoleculeGraph` that use bio-chemical tools to compute\n",
    "a reasonable geometry from molecular data for a specific Quantum Device. For other classes of graph, you will need to give a\n",
    "geometry yourself and use `qek_datatools.BaseGraph`.\n",
    "\n",
    "As the geometry depends on the Quantum Device, we need to specify a device to use. We'll use Pulser's `AnalogDevice`, which is\n",
    "a reasonable default device. If you need to adapt your code to a different device, you'll need to pick another one."
   ]
  },
  {
   "cell_type": "code",
   "execution_count": 4,
   "metadata": {},
   "outputs": [
    {
     "data": {
      "application/vnd.jupyter.widget-view+json": {
       "model_id": "826e422c51254b9a8ca212e558890d86",
       "version_major": 2,
       "version_minor": 0
      },
      "text/plain": [
       "  0%|          | 0/349 [00:00<?, ?it/s]"
      ]
     },
     "metadata": {},
     "output_type": "display_data"
    },
    {
     "ename": "AssertionError",
     "evalue": "",
     "output_type": "error",
     "traceback": [
      "\u001b[0;31m---------------------------------------------------------------------------\u001b[0m",
      "\u001b[0;31mAssertionError\u001b[0m                            Traceback (most recent call last)",
      "Cell \u001b[0;32mIn[4], line 3\u001b[0m\n\u001b[1;32m      1\u001b[0m list_of_graphs \u001b[38;5;241m=\u001b[39m []\n\u001b[1;32m      2\u001b[0m \u001b[38;5;28;01mfor\u001b[39;00m data \u001b[38;5;129;01min\u001b[39;00m tqdm(og_ptcfm):\n\u001b[0;32m----> 3\u001b[0m     graph \u001b[38;5;241m=\u001b[39m \u001b[43mqek_datatools\u001b[49m\u001b[38;5;241;43m.\u001b[39;49m\u001b[43mMoleculeGraph\u001b[49m\u001b[43m(\u001b[49m\u001b[43mdata\u001b[49m\u001b[38;5;241;43m=\u001b[39;49m\u001b[43mdata\u001b[49m\u001b[43m,\u001b[49m\u001b[43m \u001b[49m\u001b[43mdevice\u001b[49m\u001b[38;5;241;43m=\u001b[39;49m\u001b[43mpl\u001b[49m\u001b[38;5;241;43m.\u001b[39;49m\u001b[43mAnalogDevice\u001b[49m\u001b[43m)\u001b[49m\n\u001b[1;32m      4\u001b[0m     list_of_graphs\u001b[38;5;241m.\u001b[39mappend((graph, graph\u001b[38;5;241m.\u001b[39mpyg\u001b[38;5;241m.\u001b[39my\u001b[38;5;241m.\u001b[39mitem()))\n",
      "File \u001b[0;32m~/Documents/Code/quantum-evolution-kernel/qek/data/datatools.py:335\u001b[0m, in \u001b[0;36mMoleculeGraph.__init__\u001b[0;34m(self, data, device, node_mapping, edge_mapping)\u001b[0m\n\u001b[1;32m    333\u001b[0m pyg \u001b[38;5;241m=\u001b[39m data\u001b[38;5;241m.\u001b[39mclone()\n\u001b[1;32m    334\u001b[0m pyg\u001b[38;5;241m.\u001b[39mpos \u001b[38;5;241m=\u001b[39m \u001b[38;5;28;01mNone\u001b[39;00m  \u001b[38;5;66;03m# Placeholder\u001b[39;00m\n\u001b[0;32m--> 335\u001b[0m \u001b[38;5;28;43msuper\u001b[39;49m\u001b[43m(\u001b[49m\u001b[43m)\u001b[49m\u001b[38;5;241;43m.\u001b[39;49m\u001b[38;5;21;43m__init__\u001b[39;49m\u001b[43m(\u001b[49m\u001b[43mpyg\u001b[49m\u001b[43m,\u001b[49m\u001b[43m \u001b[49m\u001b[43mdevice\u001b[49m\u001b[43m)\u001b[49m\n\u001b[1;32m    337\u001b[0m \u001b[38;5;66;03m# Reconstruct the molecule.\u001b[39;00m\n\u001b[1;32m    338\u001b[0m tmp_mol \u001b[38;5;241m=\u001b[39m graph_to_mol(\n\u001b[1;32m    339\u001b[0m     graph\u001b[38;5;241m=\u001b[39m\u001b[38;5;28mself\u001b[39m\u001b[38;5;241m.\u001b[39mnx_graph,\n\u001b[1;32m    340\u001b[0m     node_mapping\u001b[38;5;241m=\u001b[39mnode_mapping,\n\u001b[1;32m    341\u001b[0m     edge_mapping\u001b[38;5;241m=\u001b[39medge_mapping,\n\u001b[1;32m    342\u001b[0m )\n",
      "File \u001b[0;32m~/Documents/Code/quantum-evolution-kernel/qek/data/datatools.py:140\u001b[0m, in \u001b[0;36mBaseGraph.__init__\u001b[0;34m(self, data, device)\u001b[0m\n\u001b[1;32m    137\u001b[0m \u001b[38;5;66;03m# pygraph_geometry hints pos as a `Tensor | None` but it is actually a `ndarray`.\u001b[39;00m\n\u001b[1;32m    138\u001b[0m \u001b[38;5;66;03m# Since both are array-like, we just need to check that pos is not None.\u001b[39;00m\n\u001b[1;32m    139\u001b[0m pos \u001b[38;5;241m=\u001b[39m \u001b[38;5;28mself\u001b[39m\u001b[38;5;241m.\u001b[39mpyg\u001b[38;5;241m.\u001b[39mpos\n\u001b[0;32m--> 140\u001b[0m \u001b[38;5;28;01massert\u001b[39;00m pos \u001b[38;5;129;01mis\u001b[39;00m \u001b[38;5;129;01mnot\u001b[39;00m \u001b[38;5;28;01mNone\u001b[39;00m\n\u001b[1;32m    141\u001b[0m \u001b[38;5;28mself\u001b[39m\u001b[38;5;241m.\u001b[39mpos: Mapping[\u001b[38;5;28mint\u001b[39m, \u001b[38;5;28mfloat\u001b[39m] \u001b[38;5;241m=\u001b[39m cast(Mapping[\u001b[38;5;28mint\u001b[39m, \u001b[38;5;28mfloat\u001b[39m], pos)\n",
      "\u001b[0;31mAssertionError\u001b[0m: "
     ]
    }
   ],
   "source": [
    "list_of_graphs = []\n",
    "for data in tqdm(og_ptcfm):\n",
    "    graph = qek_datatools.MoleculeGraph(data=data, device=pl.AnalogDevice)\n",
    "    list_of_graphs.append((graph, graph.pyg.y.item()))"
   ]
  },
  {
   "cell_type": "markdown",
   "metadata": {},
   "source": [
    "## Create a Pulser sequence\n",
    "\n",
    "Once the embedding is found, we create a Pulser Sequence that can be interpreted by a Quantum Device. A Sequence consists of a **register** (i.e. a geometry of qubits on the device) and **pulse**s. Sequences need to be designed for a specific device, so our graph object offers a method `compute_sequence` that does exactly that.\n",
    "\n",
    "Not all graphs can be embedded on a given device. In this notebook, for the sake of simplicity, we simply discard graphs that cannot be trivially embedded."
   ]
  },
  {
   "cell_type": "code",
   "execution_count": 5,
   "metadata": {},
   "outputs": [
    {
     "data": {
      "application/vnd.jupyter.widget-view+json": {
       "model_id": "7be5586cc42b4307aeffeb1132b312b8",
       "version_major": 2,
       "version_minor": 0
      },
      "text/plain": [
       "  0%|          | 0/349 [00:00<?, ?it/s]"
      ]
     },
     "metadata": {},
     "output_type": "display_data"
    },
    {
     "ename": "AssertionError",
     "evalue": "invalid type for pos: <class 'numpy.ndarray'>",
     "output_type": "error",
     "traceback": [
      "\u001b[0;31m---------------------------------------------------------------------------\u001b[0m",
      "\u001b[0;31mAssertionError\u001b[0m                            Traceback (most recent call last)",
      "Cell \u001b[0;32mIn[5], line 5\u001b[0m\n\u001b[1;32m      1\u001b[0m dataset_sequence \u001b[38;5;241m=\u001b[39m []\n\u001b[1;32m      3\u001b[0m \u001b[38;5;28;01mfor\u001b[39;00m graph, target \u001b[38;5;129;01min\u001b[39;00m tqdm(list_of_graphs):\n\u001b[1;32m      4\u001b[0m     \u001b[38;5;66;03m# Some graph are not compatible with AnalogDevice, just skip them.\u001b[39;00m\n\u001b[0;32m----> 5\u001b[0m     \u001b[38;5;28;01mif\u001b[39;00m \u001b[43mgraph\u001b[49m\u001b[38;5;241;43m.\u001b[39;49m\u001b[43mis_embeddable\u001b[49m\u001b[43m(\u001b[49m\u001b[43m)\u001b[49m:\n\u001b[1;32m      6\u001b[0m         dataset_sequence\u001b[38;5;241m.\u001b[39mappend((graph\u001b[38;5;241m.\u001b[39mcompute_sequence(), target))\n",
      "File \u001b[0;32m~/Documents/Code/quantum-evolution-kernel/qek/data/datatools.py:208\u001b[0m, in \u001b[0;36mBaseGraph.is_embeddable\u001b[0;34m(self)\u001b[0m\n\u001b[1;32m    206\u001b[0m \u001b[38;5;66;03m# Check the distance from the center\u001b[39;00m\n\u001b[1;32m    207\u001b[0m pos \u001b[38;5;241m=\u001b[39m \u001b[38;5;28mself\u001b[39m\u001b[38;5;241m.\u001b[39mpyg\u001b[38;5;241m.\u001b[39mpos\n\u001b[0;32m--> 208\u001b[0m \u001b[38;5;28;01massert\u001b[39;00m \u001b[38;5;28misinstance\u001b[39m(pos, torch\u001b[38;5;241m.\u001b[39mTensor), \u001b[38;5;124mf\u001b[39m\u001b[38;5;124m\"\u001b[39m\u001b[38;5;124minvalid type for pos: \u001b[39m\u001b[38;5;132;01m{\u001b[39;00m\u001b[38;5;28mtype\u001b[39m(pos)\u001b[38;5;132;01m}\u001b[39;00m\u001b[38;5;124m\"\u001b[39m\n\u001b[1;32m    209\u001b[0m distance_from_center \u001b[38;5;241m=\u001b[39m np\u001b[38;5;241m.\u001b[39mlinalg\u001b[38;5;241m.\u001b[39mnorm(pos, \u001b[38;5;28mord\u001b[39m\u001b[38;5;241m=\u001b[39m\u001b[38;5;241m2\u001b[39m, axis\u001b[38;5;241m=\u001b[39m\u001b[38;5;241m-\u001b[39m\u001b[38;5;241m1\u001b[39m)\n\u001b[1;32m    210\u001b[0m \u001b[38;5;28;01mif\u001b[39;00m \u001b[38;5;28many\u001b[39m(distance_from_center \u001b[38;5;241m>\u001b[39m \u001b[38;5;28mself\u001b[39m\u001b[38;5;241m.\u001b[39mdevice\u001b[38;5;241m.\u001b[39mmax_radial_distance):\n",
      "\u001b[0;31mAssertionError\u001b[0m: invalid type for pos: <class 'numpy.ndarray'>"
     ]
    }
   ],
   "source": [
    "dataset_sequence = []\n",
    "\n",
    "for graph, target in tqdm(list_of_graphs):\n",
    "    # Some graph are not compatible with AnalogDevice, just skip them.\n",
    "    if graph.is_embeddable():\n",
    "        dataset_sequence.append((graph.compute_sequence(), target))\n"
   ]
  },
  {
   "cell_type": "markdown",
   "metadata": {},
   "source": [
    "A pulser sequence is all you need for a quantum calculation on a Pasqal QPU! Before submitting the calculation to an actual quantum computer, let's verify that everything works on our machine. For this, Pasqal has developed several simulators, which you may find in `pulser_simulation`. Of course, quantum simulators are much slower than a real quantum computer, so we're not going to run all these embeddings on our simulator."
   ]
  },
  {
   "cell_type": "code",
   "execution_count": 7,
   "metadata": {},
   "outputs": [
    {
     "data": {
      "application/vnd.jupyter.widget-view+json": {
       "model_id": "28879b63c7c64a9293afd91218d06f89",
       "version_major": 2,
       "version_minor": 0
      },
      "text/plain": [
       "  0%|          | 0/1 [00:00<?, ?it/s]"
      ]
     },
     "metadata": {},
     "output_type": "display_data"
    }
   ],
   "source": [
    "from pulser_simulation import QutipEmulator\n",
    "from qek.data.dataset import ProcessedData\n",
    "\n",
    "# In this tutorial, to make things faster, we'll only run the first compatible entry in the dataset.\n",
    "# If you wish to run more entries, feel free to increase this value.\n",
    "MAX_NUMBER_OF_GRAPHS_TO_RUN = 1\n",
    "\n",
    "processed_dataset = []\n",
    "for seq, target in tqdm(dataset_sequence[0:MAX_NUMBER_OF_GRAPHS_TO_RUN]):\n",
    "    simul = QutipEmulator.from_sequence(sequence=seq)\n",
    "    states = simul.run().sample_final_state()\n",
    "\n",
    "    processed_dataset.append(ProcessedData(seq, states, target))\n"
   ]
  },
  {
   "cell_type": "markdown",
   "metadata": {},
   "source": [
    "# Create and run a Pulser sequence on a QPU\n",
    "\n",
    "Once you have checked that the pulses work on an emulator, you will probably want to move to a QPU. For this, you will need either\n",
    "physical access to a QPU, or an account with [PASQAL Cloud](https://docs.pasqal.cloud), which provides you remote access to QPUs\n",
    "built and hosted by Pasqal. In this section, we'll see how to use the latter.\n",
    "\n",
    "If you don't have an account, just skip to the next section!\n"
   ]
  },
  {
   "cell_type": "code",
   "execution_count": 8,
   "metadata": {},
   "outputs": [],
   "source": [
    "HAVE_PASQAL_ACCOUNT = False # If you have a PASQAL Cloud account, fill in the details and set this to `True`.\n",
    "\n",
    "if HAVE_PASQAL_ACCOUNT: \n",
    "    processed_dataset = []\n",
    "\n",
    "    # Initialize connection\n",
    "    from pulser.json.abstract_repr.deserializer import deserialize_device\n",
    "    from pasqal_cloud import SDK\n",
    "\n",
    "    my_project_id = \"your_project_id\"# Replace this value with your project_id on the PASQAL platform.\n",
    "    my_username   = \"your_username\"  # Replace this value with your username or email on the PASQAL platform.\n",
    "    my_password   = \"your_password\"  # Replace this value with your password on the PASQAL platform.\n",
    "        # Security note: In real life, you probably don't want to write your password in the code.\n",
    "        # See the documentation of PASQAL Cloud for other ways to provide your password.\n",
    "\n",
    "    # Initialize the cloud client\n",
    "    sdk = SDK(username=my_username, project_id=my_project_id, password=my_password)\n",
    "\n",
    "    # Fetch the latest elists of QPUs\n",
    "    specs = sdk.get_device_specs_dict()\n",
    "    # We'll use \"Fresnel\", generally the recommended QPU on PASQAL Cloud as of this writing.\n",
    "    device = deserialize_device(specs[\"FRESNEL\"])\n",
    "\n",
    "    # As previously, create the list of graphs and embed them.\n",
    "    list_of_graphs = []\n",
    "    for data in tqdm(og_ptcfm):\n",
    "        graph = qek_datatools.MoleculeGraph(data=data, device=device)\n",
    "        list_of_graphs.append((graph, graph.pyg.y.item()))\n",
    "\n",
    "    dataset_sequence = []\n",
    "\n",
    "    for graph, target in tqdm(list_of_graphs):\n",
    "        # Some graph are not compatible with our device, just skip them.\n",
    "        if graph.is_embeddable():\n",
    "            dataset_sequence.append((graph.compute_sequence(), target))\n",
    "\n",
    "    # Now that the connection is initialized, we just have to send the work\n",
    "    # to the QPU and wait for the results.\n",
    "    for seq, target in tqdm(list_of_graphs[0:MAX_NUMBER_OF_GRAPHS_TO_RUN]):\n",
    "\n",
    "        # Send the work to the QPU.\n",
    "        batch = sdk.create_batch(\n",
    "            # The sequence.\n",
    "            seq.to_abstract_repr(),\n",
    "\n",
    "            # Run each sequence 100 times to refine results. Recall that quantum computations\n",
    "            # are probabilistic, so you need to run each sequence many times to progressively\n",
    "            # refine your probability distribution.\n",
    "            jobs=[{\"runs\": 100}],\n",
    "\n",
    "            # And wait for the results.\n",
    "            #\n",
    "            # WARNING\n",
    "            #\n",
    "            # # Wait lines\n",
    "            #\n",
    "            # As of this writing, the waiting line to access a QPU can be very long (typically\n",
    "            # several hours). Argument `wait=True` will stop your program until the batch has\n",
    "            # completed. For most uses, that's often not what you want.\n",
    "            wait=True,\n",
    "        )\n",
    "\n",
    "        # The sdk returns a single job.\n",
    "        job = batch.jobs[0]\n",
    "        assert job.status == \"DONE\"\n",
    "        states = job.result\n",
    "        processed_dataset.append(ProcessedData(seq, states, target))\n"
   ]
  },
  {
   "cell_type": "markdown",
   "metadata": {},
   "source": [
    "## Dealing with waiting lines\n",
    "\n",
    "As of this writing, the waiting line to access a QPU can be very long (typically several hours).\n",
    "\n",
    "There are two main ways to deal with this:\n",
    "\n",
    "1. Pasqal CLOUD offers access to high-performance emulators, with dramatically shorter waiting lines.\n",
    "2. With the SDK, you can fetch the status of a pending job, so that you can resume your work e.g.\n",
    "    after turning off your computer.\n",
    "\n",
    "See [the documentation](https://docs.pasqal.cloud) for all the details!"
   ]
  },
  {
   "cell_type": "markdown",
   "metadata": {},
   "source": [
    "## ...or using the provided dataset\n",
    "\n",
    "For this notebook, instead of spending hours running the simulator on your computer, we're going to skip\n",
    "this step and load on we're going to cheat and load the results, which are conveniently stored in `ptcfm_processed_dataset.json`."
   ]
  },
  {
   "cell_type": "code",
   "execution_count": 9,
   "metadata": {},
   "outputs": [
    {
     "name": "stdout",
     "output_type": "stream",
     "text": [
      "Size of the quantum compatible dataset = 279\n"
     ]
    }
   ],
   "source": [
    "processed_dataset = qek_datatools.load_dataset(file_path=\"ptcfm_processed_dataset.json\")\n",
    "print(f\"Size of the quantum compatible dataset = {len(processed_dataset)}\")"
   ]
  },
  {
   "cell_type": "markdown",
   "metadata": {},
   "source": [
    "## A look at the results"
   ]
  },
  {
   "cell_type": "markdown",
   "metadata": {},
   "source": [
    "We can check the sequence for one of the samples:"
   ]
  },
  {
   "cell_type": "code",
   "execution_count": 10,
   "metadata": {},
   "outputs": [
    {
     "data": {
      "image/png": "[encoded data removed]",
      "text/plain": [
       "<Figure size 2000x300 with 2 Axes>"
      ]
     },
     "metadata": {},
     "output_type": "display_data"
    }
   ],
   "source": [
    "dataset_example = processed_dataset[64]\n",
    "dataset_example.draw_sequence()"
   ]
  },
  {
   "cell_type": "code",
   "execution_count": 11,
   "metadata": {},
   "outputs": [
    {
     "data": {
      "image/png": "[encoded data removed]",
      "text/plain": [
       "<Figure size 572.356x312.372 with 1 Axes>"
      ]
     },
     "metadata": {},
     "output_type": "display_data"
    }
   ],
   "source": [
    "dataset_example.draw_register()"
   ]
  },
  {
   "cell_type": "markdown",
   "metadata": {},
   "source": [
    "The results of executing the embedding on the Quantum Device are in field `state_dict`:"
   ]
  },
  {
   "cell_type": "code",
   "execution_count": 12,
   "metadata": {},
   "outputs": [
    {
     "data": {
      "text/plain": [
       "{'00100000100': 15,\n",
       " '00100010010': 13,\n",
       " '10100100001': 7,\n",
       " '10000100000': 2,\n",
       " '10000000010': 29,\n",
       " '10000001010': 43,\n",
       " '01000000000': 20,\n",
       " '10000000000': 33,\n",
       " '10100001011': 3,\n",
       " '00001010001': 2,\n",
       " '01000001010': 9,\n",
       " '01000000100': 7,\n",
       " '00110000000': 6,\n",
       " '00100101010': 2,\n",
       " '10000000001': 13,\n",
       " '10010101100': 3,\n",
       " '01000010001': 8,\n",
       " '00000000000': 11,\n",
       " '00100000010': 21,\n",
       " '00100001100': 24,\n",
       " '01001010010': 2,\n",
       " '10000001001': 13,\n",
       " '00110001010': 15,\n",
       " '00101000010': 3,\n",
       " '00100010001': 4,\n",
       " '00110010010': 9,\n",
       " '10001001000': 4,\n",
       " '00100100010': 3,\n",
       " '00100000001': 6,\n",
       " '01000010010': 17,\n",
       " '10100001000': 8,\n",
       " '10110000100': 2,\n",
       " '10000010000': 11,\n",
       " '00010000000': 3,\n",
       " '00101001000': 2,\n",
       " '00100000000': 40,\n",
       " '00110000010': 11,\n",
       " '00100100011': 5,\n",
       " '10010000000': 17,\n",
       " '00100001010': 38,\n",
       " '10000001000': 16,\n",
       " '10001010011': 1,\n",
       " '10001010010': 5,\n",
       " '10000001100': 16,\n",
       " '10110000000': 7,\n",
       " '10010010010': 6,\n",
       " '00100001001': 19,\n",
       " '10010000010': 7,\n",
       " '00101001011': 3,\n",
       " '00101000100': 1,\n",
       " '10101001001': 5,\n",
       " '10100100000': 2,\n",
       " '10000010010': 20,\n",
       " '10000101011': 3,\n",
       " '00010101100': 5,\n",
       " '00000101000': 2,\n",
       " '00000010000': 5,\n",
       " '00101010000': 6,\n",
       " '00001001001': 1,\n",
       " '01001010000': 4,\n",
       " '00110001000': 5,\n",
       " '01001000011': 2,\n",
       " '00100100001': 2,\n",
       " '01000101010': 3,\n",
       " '10110100000': 3,\n",
       " '10100100010': 1,\n",
       " '01000100100': 4,\n",
       " '01100000010': 1,\n",
       " '10110001100': 2,\n",
       " '10010000100': 2,\n",
       " '00100001000': 18,\n",
       " '10110100100': 2,\n",
       " '00000001010': 10,\n",
       " '00101010010': 1,\n",
       " '10000000100': 15,\n",
       " '00000001100': 3,\n",
       " '10110001000': 5,\n",
       " '10100000011': 2,\n",
       " '10110010000': 5,\n",
       " '00000000100': 3,\n",
       " '10000100011': 3,\n",
       " '00010101000': 3,\n",
       " '01001001011': 1,\n",
       " '00101001001': 1,\n",
       " '10000010001': 2,\n",
       " '10000101001': 1,\n",
       " '00100010000': 7,\n",
       " '10100001010': 8,\n",
       " '10100100011': 3,\n",
       " '10100010010': 3,\n",
       " '01000001100': 9,\n",
       " '00110001100': 2,\n",
       " '10100010000': 2,\n",
       " '10000000011': 5,\n",
       " '10101000001': 3,\n",
       " '10100000000': 11,\n",
       " '00000100000': 6,\n",
       " '10110100010': 4,\n",
       " '00000101010': 2,\n",
       " '10101010011': 6,\n",
       " '00100000011': 4,\n",
       " '10010001010': 14,\n",
       " '00101000011': 2,\n",
       " '10010001000': 2,\n",
       " '00000001000': 7,\n",
       " '01001000000': 1,\n",
       " '00001010000': 2,\n",
       " '00110101010': 1,\n",
       " '01001001001': 1,\n",
       " '00100101001': 2,\n",
       " '10100101001': 2,\n",
       " '00010001000': 2,\n",
       " '10100001100': 5,\n",
       " '10000100100': 2,\n",
       " '10101000000': 2,\n",
       " '00110000100': 2,\n",
       " '10010010000': 2,\n",
       " '01000010000': 9,\n",
       " '10101001010': 1,\n",
       " '01000100000': 2,\n",
       " '00101010001': 1,\n",
       " '00001000001': 3,\n",
       " '01001001010': 2,\n",
       " '00000100011': 2,\n",
       " '00100001101': 1,\n",
       " '10000101010': 4,\n",
       " '10000001011': 3,\n",
       " '00100100000': 2,\n",
       " '00000001001': 1,\n",
       " '00100110001': 1,\n",
       " '00110010000': 2,\n",
       " '10010001100': 1,\n",
       " '00010100100': 3,\n",
       " '00000100001': 2,\n",
       " '01000001001': 5,\n",
       " '01000001000': 8,\n",
       " '10100000010': 2,\n",
       " '00000001011': 1,\n",
       " '10001000010': 1,\n",
       " '10110101000': 1,\n",
       " '00110100010': 5,\n",
       " '01000000010': 11,\n",
       " '00000000010': 3,\n",
       " '10010101000': 1,\n",
       " '00010100010': 2,\n",
       " '10100010001': 1,\n",
       " '10001000000': 3,\n",
       " '01000100010': 2,\n",
       " '00000010010': 2,\n",
       " '10101001011': 1,\n",
       " '10001010000': 2,\n",
       " '00001001000': 1,\n",
       " '00110100000': 4,\n",
       " '10010100000': 1,\n",
       " '00101001010': 2,\n",
       " '01000101000': 1,\n",
       " '00101010011': 1,\n",
       " '10100001101': 1,\n",
       " '01001010011': 2,\n",
       " '01001010001': 1,\n",
       " '01001101010': 1,\n",
       " '10100000100': 2,\n",
       " '01001000001': 3,\n",
       " '10101010001': 4,\n",
       " '10110011100': 1,\n",
       " '01000000001': 1,\n",
       " '00110000011': 1,\n",
       " '00100101011': 3,\n",
       " '00000100010': 1,\n",
       " '10000101000': 1,\n",
       " '00001010011': 1,\n",
       " '10001001010': 4,\n",
       " '00001001010': 1,\n",
       " '10010100010': 3,\n",
       " '01000101011': 1,\n",
       " '00001000011': 1,\n",
       " '10001001011': 2,\n",
       " '00101000001': 1,\n",
       " '10001000011': 1,\n",
       " '01000010011': 1,\n",
       " '10001001001': 1,\n",
       " '01001001000': 1,\n",
       " '10110000010': 1,\n",
       " '00100010011': 1,\n",
       " '00101001110': 1,\n",
       " '10001000001': 2,\n",
       " '00000000011': 1,\n",
       " '10000101100': 1,\n",
       " '00101000000': 1,\n",
       " '00100001011': 1,\n",
       " '10100000001': 1,\n",
       " '00100101000': 1,\n",
       " '00010001100': 1,\n",
       " '00010010000': 1,\n",
       " '01000000011': 2,\n",
       " '10000100010': 1,\n",
       " '01000010110': 1}"
      ]
     },
     "metadata": {},
     "output_type": "display_data"
    },
    {
     "name": "stdout",
     "output_type": "stream",
     "text": [
      "Total number of samples: 1000\n"
     ]
    }
   ],
   "source": [
    "display(dataset_example.state_dict)\n",
    "print(f\"Total number of samples: {sum(dataset_example.state_dict.values())}\")"
   ]
  },
  {
   "cell_type": "markdown",
   "metadata": {},
   "source": [
    "This dictionary represents an approximation of the quantum state of the device for this graph after completion of the algorithm.\n",
    "\n",
    "- each of the keys represents one possible state for the register (which represents the graph), with each qubit (which represents a single node) being in state `0` or `1`;\n",
    "- the corresponding value is the number of samples observed with this specific state of the register.\n",
    "\n",
    "In this example, for instance, we can see that the state observed most frequently is `10000001010`, with 43/1000 samples."
   ]
  },
  {
   "cell_type": "markdown",
   "metadata": {},
   "source": [
    "## Machine learning-features\n",
    "\n",
    "From the state dictionary, we derive as machine-learning feature the _distribution of excitation_. We'll use this in a second to define our kernel.\n"
   ]
  },
  {
   "cell_type": "code",
   "execution_count": 13,
   "metadata": {},
   "outputs": [
    {
     "ename": "ValueError",
     "evalue": "shape mismatch: objects cannot be broadcast to a single shape.  Mismatch is between arg 0 with shape (13,) and arg 1 with shape (12,).",
     "output_type": "error",
     "traceback": [
      "\u001b[0;31m---------------------------------------------------------------------------\u001b[0m",
      "\u001b[0;31mValueError\u001b[0m                                Traceback (most recent call last)",
      "Cell \u001b[0;32mIn[13], line 1\u001b[0m\n\u001b[0;32m----> 1\u001b[0m \u001b[43mdataset_example\u001b[49m\u001b[38;5;241;43m.\u001b[39;49m\u001b[43mdraw_excitation\u001b[49m\u001b[43m(\u001b[49m\u001b[43m)\u001b[49m\n",
      "File \u001b[0;32m~/Documents/Code/quantum-evolution-kernel/qek/data/dataset.py:99\u001b[0m, in \u001b[0;36mProcessedData.draw_excitation\u001b[0;34m(self)\u001b[0m\n\u001b[1;32m     95\u001b[0m \u001b[38;5;250m\u001b[39m\u001b[38;5;124;03m\"\"\"\u001b[39;00m\n\u001b[1;32m     96\u001b[0m \u001b[38;5;124;03mDraw an histogram for the excitation level on screen\u001b[39;00m\n\u001b[1;32m     97\u001b[0m \u001b[38;5;124;03m\"\"\"\u001b[39;00m\n\u001b[1;32m     98\u001b[0m x \u001b[38;5;241m=\u001b[39m [\u001b[38;5;28mstr\u001b[39m(i) \u001b[38;5;28;01mfor\u001b[39;00m i \u001b[38;5;129;01min\u001b[39;00m \u001b[38;5;28mrange\u001b[39m(\u001b[38;5;28mlen\u001b[39m(\u001b[38;5;28mself\u001b[39m\u001b[38;5;241m.\u001b[39m_dist_excitation) \u001b[38;5;241m+\u001b[39m \u001b[38;5;241m1\u001b[39m)]\n\u001b[0;32m---> 99\u001b[0m \u001b[43mmatplotlib\u001b[49m\u001b[38;5;241;43m.\u001b[39;49m\u001b[43mpyplot\u001b[49m\u001b[38;5;241;43m.\u001b[39;49m\u001b[43mbar\u001b[49m\u001b[43m(\u001b[49m\u001b[43mx\u001b[49m\u001b[43m,\u001b[49m\u001b[43m \u001b[49m\u001b[38;5;28;43mself\u001b[39;49m\u001b[38;5;241;43m.\u001b[39;49m\u001b[43m_dist_excitation\u001b[49m\u001b[43m)\u001b[49m\n",
      "File \u001b[0;32m~/.local/share/hatch/env/virtual/quantum-evolution-kernel/CUtOsxF1/quantum-evolution-kernel/lib/python3.12/site-packages/matplotlib/pyplot.py:2981\u001b[0m, in \u001b[0;36mbar\u001b[0;34m(x, height, width, bottom, align, data, **kwargs)\u001b[0m\n\u001b[1;32m   2970\u001b[0m \u001b[38;5;129m@_copy_docstring_and_deprecators\u001b[39m(Axes\u001b[38;5;241m.\u001b[39mbar)\n\u001b[1;32m   2971\u001b[0m \u001b[38;5;28;01mdef\u001b[39;00m \u001b[38;5;21mbar\u001b[39m(\n\u001b[1;32m   2972\u001b[0m     x: \u001b[38;5;28mfloat\u001b[39m \u001b[38;5;241m|\u001b[39m ArrayLike,\n\u001b[0;32m   (...)\u001b[0m\n\u001b[1;32m   2979\u001b[0m     \u001b[38;5;241m*\u001b[39m\u001b[38;5;241m*\u001b[39mkwargs,\n\u001b[1;32m   2980\u001b[0m ) \u001b[38;5;241m-\u001b[39m\u001b[38;5;241m>\u001b[39m BarContainer:\n\u001b[0;32m-> 2981\u001b[0m     \u001b[38;5;28;01mreturn\u001b[39;00m \u001b[43mgca\u001b[49m\u001b[43m(\u001b[49m\u001b[43m)\u001b[49m\u001b[38;5;241;43m.\u001b[39;49m\u001b[43mbar\u001b[49m\u001b[43m(\u001b[49m\n\u001b[1;32m   2982\u001b[0m \u001b[43m        \u001b[49m\u001b[43mx\u001b[49m\u001b[43m,\u001b[49m\n\u001b[1;32m   2983\u001b[0m \u001b[43m        \u001b[49m\u001b[43mheight\u001b[49m\u001b[43m,\u001b[49m\n\u001b[1;32m   2984\u001b[0m \u001b[43m        \u001b[49m\u001b[43mwidth\u001b[49m\u001b[38;5;241;43m=\u001b[39;49m\u001b[43mwidth\u001b[49m\u001b[43m,\u001b[49m\n\u001b[1;32m   2985\u001b[0m \u001b[43m        \u001b[49m\u001b[43mbottom\u001b[49m\u001b[38;5;241;43m=\u001b[39;49m\u001b[43mbottom\u001b[49m\u001b[43m,\u001b[49m\n\u001b[1;32m   2986\u001b[0m \u001b[43m        \u001b[49m\u001b[43malign\u001b[49m\u001b[38;5;241;43m=\u001b[39;49m\u001b[43malign\u001b[49m\u001b[43m,\u001b[49m\n\u001b[1;32m   2987\u001b[0m \u001b[43m        \u001b[49m\u001b[38;5;241;43m*\u001b[39;49m\u001b[38;5;241;43m*\u001b[39;49m\u001b[43m(\u001b[49m\u001b[43m{\u001b[49m\u001b[38;5;124;43m\"\u001b[39;49m\u001b[38;5;124;43mdata\u001b[39;49m\u001b[38;5;124;43m\"\u001b[39;49m\u001b[43m:\u001b[49m\u001b[43m \u001b[49m\u001b[43mdata\u001b[49m\u001b[43m}\u001b[49m\u001b[43m \u001b[49m\u001b[38;5;28;43;01mif\u001b[39;49;00m\u001b[43m \u001b[49m\u001b[43mdata\u001b[49m\u001b[43m \u001b[49m\u001b[38;5;129;43;01mis\u001b[39;49;00m\u001b[43m \u001b[49m\u001b[38;5;129;43;01mnot\u001b[39;49;00m\u001b[43m \u001b[49m\u001b[38;5;28;43;01mNone\u001b[39;49;00m\u001b[43m \u001b[49m\u001b[38;5;28;43;01melse\u001b[39;49;00m\u001b[43m \u001b[49m\u001b[43m{\u001b[49m\u001b[43m}\u001b[49m\u001b[43m)\u001b[49m\u001b[43m,\u001b[49m\n\u001b[1;32m   2988\u001b[0m \u001b[43m        \u001b[49m\u001b[38;5;241;43m*\u001b[39;49m\u001b[38;5;241;43m*\u001b[39;49m\u001b[43mkwargs\u001b[49m\u001b[43m,\u001b[49m\n\u001b[1;32m   2989\u001b[0m \u001b[43m    \u001b[49m\u001b[43m)\u001b[49m\n",
      "File \u001b[0;32m~/.local/share/hatch/env/virtual/quantum-evolution-kernel/CUtOsxF1/quantum-evolution-kernel/lib/python3.12/site-packages/matplotlib/__init__.py:1521\u001b[0m, in \u001b[0;36m_preprocess_data.<locals>.inner\u001b[0;34m(ax, data, *args, **kwargs)\u001b[0m\n\u001b[1;32m   1518\u001b[0m \u001b[38;5;129m@functools\u001b[39m\u001b[38;5;241m.\u001b[39mwraps(func)\n\u001b[1;32m   1519\u001b[0m \u001b[38;5;28;01mdef\u001b[39;00m \u001b[38;5;21minner\u001b[39m(ax, \u001b[38;5;241m*\u001b[39margs, data\u001b[38;5;241m=\u001b[39m\u001b[38;5;28;01mNone\u001b[39;00m, \u001b[38;5;241m*\u001b[39m\u001b[38;5;241m*\u001b[39mkwargs):\n\u001b[1;32m   1520\u001b[0m     \u001b[38;5;28;01mif\u001b[39;00m data \u001b[38;5;129;01mis\u001b[39;00m \u001b[38;5;28;01mNone\u001b[39;00m:\n\u001b[0;32m-> 1521\u001b[0m         \u001b[38;5;28;01mreturn\u001b[39;00m \u001b[43mfunc\u001b[49m\u001b[43m(\u001b[49m\n\u001b[1;32m   1522\u001b[0m \u001b[43m            \u001b[49m\u001b[43max\u001b[49m\u001b[43m,\u001b[49m\n\u001b[1;32m   1523\u001b[0m \u001b[43m            \u001b[49m\u001b[38;5;241;43m*\u001b[39;49m\u001b[38;5;28;43mmap\u001b[39;49m\u001b[43m(\u001b[49m\u001b[43mcbook\u001b[49m\u001b[38;5;241;43m.\u001b[39;49m\u001b[43msanitize_sequence\u001b[49m\u001b[43m,\u001b[49m\u001b[43m \u001b[49m\u001b[43margs\u001b[49m\u001b[43m)\u001b[49m\u001b[43m,\u001b[49m\n\u001b[1;32m   1524\u001b[0m \u001b[43m            \u001b[49m\u001b[38;5;241;43m*\u001b[39;49m\u001b[38;5;241;43m*\u001b[39;49m\u001b[43m{\u001b[49m\u001b[43mk\u001b[49m\u001b[43m:\u001b[49m\u001b[43m \u001b[49m\u001b[43mcbook\u001b[49m\u001b[38;5;241;43m.\u001b[39;49m\u001b[43msanitize_sequence\u001b[49m\u001b[43m(\u001b[49m\u001b[43mv\u001b[49m\u001b[43m)\u001b[49m\u001b[43m \u001b[49m\u001b[38;5;28;43;01mfor\u001b[39;49;00m\u001b[43m \u001b[49m\u001b[43mk\u001b[49m\u001b[43m,\u001b[49m\u001b[43m \u001b[49m\u001b[43mv\u001b[49m\u001b[43m \u001b[49m\u001b[38;5;129;43;01min\u001b[39;49;00m\u001b[43m \u001b[49m\u001b[43mkwargs\u001b[49m\u001b[38;5;241;43m.\u001b[39;49m\u001b[43mitems\u001b[49m\u001b[43m(\u001b[49m\u001b[43m)\u001b[49m\u001b[43m}\u001b[49m\u001b[43m)\u001b[49m\n\u001b[1;32m   1526\u001b[0m     bound \u001b[38;5;241m=\u001b[39m new_sig\u001b[38;5;241m.\u001b[39mbind(ax, \u001b[38;5;241m*\u001b[39margs, \u001b[38;5;241m*\u001b[39m\u001b[38;5;241m*\u001b[39mkwargs)\n\u001b[1;32m   1527\u001b[0m     auto_label \u001b[38;5;241m=\u001b[39m (bound\u001b[38;5;241m.\u001b[39marguments\u001b[38;5;241m.\u001b[39mget(label_namer)\n\u001b[1;32m   1528\u001b[0m                   \u001b[38;5;129;01mor\u001b[39;00m bound\u001b[38;5;241m.\u001b[39mkwargs\u001b[38;5;241m.\u001b[39mget(label_namer))\n",
      "File \u001b[0;32m~/.local/share/hatch/env/virtual/quantum-evolution-kernel/CUtOsxF1/quantum-evolution-kernel/lib/python3.12/site-packages/matplotlib/axes/_axes.py:2572\u001b[0m, in \u001b[0;36mAxes.bar\u001b[0;34m(self, x, height, width, bottom, align, **kwargs)\u001b[0m\n\u001b[1;32m   2569\u001b[0m     \u001b[38;5;28;01mif\u001b[39;00m yerr \u001b[38;5;129;01mis\u001b[39;00m \u001b[38;5;129;01mnot\u001b[39;00m \u001b[38;5;28;01mNone\u001b[39;00m:\n\u001b[1;32m   2570\u001b[0m         yerr \u001b[38;5;241m=\u001b[39m \u001b[38;5;28mself\u001b[39m\u001b[38;5;241m.\u001b[39m_convert_dx(yerr, y0, y, \u001b[38;5;28mself\u001b[39m\u001b[38;5;241m.\u001b[39mconvert_yunits)\n\u001b[0;32m-> 2572\u001b[0m x, height, width, y, linewidth, hatch \u001b[38;5;241m=\u001b[39m \u001b[43mnp\u001b[49m\u001b[38;5;241;43m.\u001b[39;49m\u001b[43mbroadcast_arrays\u001b[49m\u001b[43m(\u001b[49m\n\u001b[1;32m   2573\u001b[0m \u001b[43m    \u001b[49m\u001b[38;5;66;43;03m# Make args iterable too.\u001b[39;49;00m\n\u001b[1;32m   2574\u001b[0m \u001b[43m    \u001b[49m\u001b[43mnp\u001b[49m\u001b[38;5;241;43m.\u001b[39;49m\u001b[43matleast_1d\u001b[49m\u001b[43m(\u001b[49m\u001b[43mx\u001b[49m\u001b[43m)\u001b[49m\u001b[43m,\u001b[49m\u001b[43m \u001b[49m\u001b[43mheight\u001b[49m\u001b[43m,\u001b[49m\u001b[43m \u001b[49m\u001b[43mwidth\u001b[49m\u001b[43m,\u001b[49m\u001b[43m \u001b[49m\u001b[43my\u001b[49m\u001b[43m,\u001b[49m\u001b[43m \u001b[49m\u001b[43mlinewidth\u001b[49m\u001b[43m,\u001b[49m\u001b[43m \u001b[49m\u001b[43mhatch\u001b[49m\u001b[43m)\u001b[49m\n\u001b[1;32m   2576\u001b[0m \u001b[38;5;66;03m# Now that units have been converted, set the tick locations.\u001b[39;00m\n\u001b[1;32m   2577\u001b[0m \u001b[38;5;28;01mif\u001b[39;00m orientation \u001b[38;5;241m==\u001b[39m \u001b[38;5;124m'\u001b[39m\u001b[38;5;124mvertical\u001b[39m\u001b[38;5;124m'\u001b[39m:\n",
      "File \u001b[0;32m~/.local/share/hatch/env/virtual/quantum-evolution-kernel/CUtOsxF1/quantum-evolution-kernel/lib/python3.12/site-packages/numpy/lib/stride_tricks.py:540\u001b[0m, in \u001b[0;36mbroadcast_arrays\u001b[0;34m(subok, *args)\u001b[0m\n\u001b[1;32m    533\u001b[0m \u001b[38;5;66;03m# nditer is not used here to avoid the limit of 32 arrays.\u001b[39;00m\n\u001b[1;32m    534\u001b[0m \u001b[38;5;66;03m# Otherwise, something like the following one-liner would suffice:\u001b[39;00m\n\u001b[1;32m    535\u001b[0m \u001b[38;5;66;03m# return np.nditer(args, flags=['multi_index', 'zerosize_ok'],\u001b[39;00m\n\u001b[1;32m    536\u001b[0m \u001b[38;5;66;03m#                  order='C').itviews\u001b[39;00m\n\u001b[1;32m    538\u001b[0m args \u001b[38;5;241m=\u001b[39m [np\u001b[38;5;241m.\u001b[39marray(_m, copy\u001b[38;5;241m=\u001b[39m\u001b[38;5;28;01mFalse\u001b[39;00m, subok\u001b[38;5;241m=\u001b[39msubok) \u001b[38;5;28;01mfor\u001b[39;00m _m \u001b[38;5;129;01min\u001b[39;00m args]\n\u001b[0;32m--> 540\u001b[0m shape \u001b[38;5;241m=\u001b[39m \u001b[43m_broadcast_shape\u001b[49m\u001b[43m(\u001b[49m\u001b[38;5;241;43m*\u001b[39;49m\u001b[43margs\u001b[49m\u001b[43m)\u001b[49m\n\u001b[1;32m    542\u001b[0m \u001b[38;5;28;01mif\u001b[39;00m \u001b[38;5;28mall\u001b[39m(array\u001b[38;5;241m.\u001b[39mshape \u001b[38;5;241m==\u001b[39m shape \u001b[38;5;28;01mfor\u001b[39;00m array \u001b[38;5;129;01min\u001b[39;00m args):\n\u001b[1;32m    543\u001b[0m     \u001b[38;5;66;03m# Common case where nothing needs to be broadcasted.\u001b[39;00m\n\u001b[1;32m    544\u001b[0m     \u001b[38;5;28;01mreturn\u001b[39;00m args\n",
      "File \u001b[0;32m~/.local/share/hatch/env/virtual/quantum-evolution-kernel/CUtOsxF1/quantum-evolution-kernel/lib/python3.12/site-packages/numpy/lib/stride_tricks.py:422\u001b[0m, in \u001b[0;36m_broadcast_shape\u001b[0;34m(*args)\u001b[0m\n\u001b[1;32m    417\u001b[0m \u001b[38;5;250m\u001b[39m\u001b[38;5;124;03m\"\"\"Returns the shape of the arrays that would result from broadcasting the\u001b[39;00m\n\u001b[1;32m    418\u001b[0m \u001b[38;5;124;03msupplied arrays against each other.\u001b[39;00m\n\u001b[1;32m    419\u001b[0m \u001b[38;5;124;03m\"\"\"\u001b[39;00m\n\u001b[1;32m    420\u001b[0m \u001b[38;5;66;03m# use the old-iterator because np.nditer does not handle size 0 arrays\u001b[39;00m\n\u001b[1;32m    421\u001b[0m \u001b[38;5;66;03m# consistently\u001b[39;00m\n\u001b[0;32m--> 422\u001b[0m b \u001b[38;5;241m=\u001b[39m \u001b[43mnp\u001b[49m\u001b[38;5;241;43m.\u001b[39;49m\u001b[43mbroadcast\u001b[49m\u001b[43m(\u001b[49m\u001b[38;5;241;43m*\u001b[39;49m\u001b[43margs\u001b[49m\u001b[43m[\u001b[49m\u001b[43m:\u001b[49m\u001b[38;5;241;43m32\u001b[39;49m\u001b[43m]\u001b[49m\u001b[43m)\u001b[49m\n\u001b[1;32m    423\u001b[0m \u001b[38;5;66;03m# unfortunately, it cannot handle 32 or more arguments directly\u001b[39;00m\n\u001b[1;32m    424\u001b[0m \u001b[38;5;28;01mfor\u001b[39;00m pos \u001b[38;5;129;01min\u001b[39;00m \u001b[38;5;28mrange\u001b[39m(\u001b[38;5;241m32\u001b[39m, \u001b[38;5;28mlen\u001b[39m(args), \u001b[38;5;241m31\u001b[39m):\n\u001b[1;32m    425\u001b[0m     \u001b[38;5;66;03m# ironically, np.broadcast does not properly handle np.broadcast\u001b[39;00m\n\u001b[1;32m    426\u001b[0m     \u001b[38;5;66;03m# objects (it treats them as scalars)\u001b[39;00m\n\u001b[1;32m    427\u001b[0m     \u001b[38;5;66;03m# use broadcasting to avoid allocating the full array\u001b[39;00m\n",
      "\u001b[0;31mValueError\u001b[0m: shape mismatch: objects cannot be broadcast to a single shape.  Mismatch is between arg 0 with shape (13,) and arg 1 with shape (12,)."
     ]
    },
    {
     "data": {
      "image/png": "[encoded data removed]",
      "text/plain": [
       "<Figure size 640x480 with 1 Axes>"
      ]
     },
     "metadata": {},
     "output_type": "display_data"
    }
   ],
   "source": [
    "dataset_example.draw_excitation()\n"
   ]
  },
  {
   "cell_type": "markdown",
   "metadata": {},
   "source": [
    "# Train your first quantum machine learning algorithm\n",
    "\n",
    "The next step is to use the results of the Quantum Device execution on a classical device\n",
    "(i.e. your computer) to create a Quantum Evolution Kernel. Since our algorithm combines steps that\n",
    "are executed on a Quantum Device and steps that are executed on a classical device, we call this\n",
    "a _hybrid algorithm_.\n"
   ]
  },
  {
   "cell_type": "markdown",
   "metadata": {},
   "source": [
    "## Introducing the Quantum Evolution Kernel\n",
    "\n",
    "For a graph $G$, let's call the excitation distribution $P_G$.\n",
    "\n",
    "We may now construct the Quantum Evolution Kernel, or QEK. Mathematically, QEK defined as:\n",
    "$$\n",
    "K(G, G') = \\exp \\left( -\\mu JS(P_G, P_{G'}) \\right)\n",
    "$$\n",
    "\n",
    "\n",
    "where $\\mu$ is an hyperparameter of our kernel and $JS$ is the Jensen-Shannon distance."
   ]
  },
  {
   "cell_type": "code",
   "execution_count": 13,
   "metadata": {},
   "outputs": [],
   "source": [
    "from qek.kernel import QuantumEvolutionKernel as QEK\n",
    "kernel = QEK(mu=2.)"
   ]
  },
  {
   "cell_type": "markdown",
   "metadata": {},
   "source": [
    "Parameter $\\mu$ controls the rate of exponential decay. A large value of $\\mu$ makes QEK very sensitive to small variations of the Jensen-Shanon distance. Conversely, when $\\mu$ is small, the kernel is less affected by small variations in of $JS$."
   ]
  },
  {
   "cell_type": "markdown",
   "metadata": {},
   "source": [
    "QEK compares two processed graphs by their distribution of excitations. If `a` and `b` are two graphs, a value of `kernel(a, b)` close to 1 indicates a big similarity between graphs `a` and `b`, while a value close to 0 means a small graph similarity.\n",
    "\n",
    "Let's try that:"
   ]
  },
  {
   "cell_type": "code",
   "execution_count": null,
   "metadata": {},
   "outputs": [
    {
     "ename": "NameError",
     "evalue": "name 'processed_dataset' is not defined",
     "output_type": "error",
     "traceback": [
      "\u001b[0;31m---------------------------------------------------------------------------\u001b[0m",
      "\u001b[0;31mNameError\u001b[0m                                 Traceback (most recent call last)",
      "Cell \u001b[0;32mIn[1], line 1\u001b[0m\n\u001b[0;32m----> 1\u001b[0m graph_1 \u001b[38;5;241m=\u001b[39m \u001b[43mprocessed_dataset\u001b[49m[\u001b[38;5;241m2\u001b[39m]\n\u001b[1;32m      2\u001b[0m graph_1\u001b[38;5;241m.\u001b[39mdraw_register()\n\u001b[1;32m      3\u001b[0m graph_1\u001b[38;5;241m.\u001b[39mdraw_excitation()\n",
      "\u001b[0;31mNameError\u001b[0m: name 'processed_dataset' is not defined"
     ]
    }
   ],
   "source": [
    "graph_1 = processed_dataset[2]\n",
    "graph_1.draw_register()\n",
    "graph_1.draw_excitation()\n",
    "print(f\"Comparing a graph with itself: {kernel(graph_1=graph_1, graph_2=graph_1)}\")"
   ]
  },
  {
   "cell_type": "code",
   "execution_count": 21,
   "metadata": {},
   "outputs": [
    {
     "data": {
      "image/png": "[encoded data removed]",
      "text/plain": [
       "<Figure size 400x200 with 1 Axes>"
      ]
     },
     "metadata": {},
     "output_type": "display_data"
    },
    {
     "name": "stdout",
     "output_type": "stream",
     "text": [
      "Comparing two non similar graphs: 0.3769509292862506\n"
     ]
    },
    {
     "data": {
      "image/png": "[encoded data removed]",
      "text/plain": [
       "<Figure size 640x480 with 1 Axes>"
      ]
     },
     "metadata": {},
     "output_type": "display_data"
    }
   ],
   "source": [
    "graph_2 = processed_dataset[0]\n",
    "graph_2.draw_register()\n",
    "graph_2.draw_excitation()\n",
    "print(f\"Comparing two non similar graphs: {kernel(graph_1=graph_1, graph_2=graph_2)}\")"
   ]
  },
  {
   "cell_type": "markdown",
   "metadata": {},
   "source": [
    "## Training and evaluation"
   ]
  },
  {
   "cell_type": "markdown",
   "metadata": {},
   "source": [
    "In this part, we will calculate the kernel on the entire dataset of PTC-FM. We obtain an NxN matrix (where N is the number of graphs in the dataset). This matrix contains the similarities two by two of the graphs.\n",
    "\n",
    "This precomputed kernel will allow us to evaluate the algorithm QEK. We will use an SVM (Support Vector Machine) to learn how to predict the toxicity of a molecule based on the precomputed kernel. This task is handled with the `train_and_evaluate_ml_model`."
   ]
  },
  {
   "cell_type": "code",
   "execution_count": 16,
   "metadata": {},
   "outputs": [],
   "source": [
    "train_kernel = kernel.fit_transform(processed_dataset)\n",
    "y_tot = [data.target for data in processed_dataset]"
   ]
  },
  {
   "cell_type": "code",
   "execution_count": 17,
   "metadata": {},
   "outputs": [],
   "source": [
    "import sklearn.svm as svm\n",
    "from sklearn.metrics import balanced_accuracy_score, f1_score, make_scorer\n",
    "from sklearn.model_selection import GridSearchCV, RepeatedStratifiedKFold\n",
    "\n",
    "\n",
    "@dataclass\n",
    "class MLResults:\n",
    "    \"\"\"\n",
    "    Stores the results of a machine learning model evaluation.\n",
    "    \n",
    "    This class provides attributes to store the mean and standard deviation of F1 score \n",
    "    and balanced accuracy, which are common metrics used in classification problems.\n",
    "\n",
    "    Attributes:\n",
    "        f1_score (float): Mean F1 score of the model.\n",
    "        std_f1_score (float): Standard deviation of F1 scores across different folds.\n",
    "        balanced_acc (float): Mean balanced accuracy of the model.\n",
    "        std_balanced_acc (float): Standard deviation of balanced accuracies across different folds.\n",
    "    \"\"\"\n",
    "    f1_score: float\n",
    "    std_f1_score: float\n",
    "    balanced_acc: float\n",
    "    std_balanced_acc: float\n",
    "\n",
    "\n",
    "def train_and_evaluate_ml_model(K: np.ndarray, targets: list[int], seed1: int = None,\n",
    "                                seed2: int = None):\n",
    "    \"\"\"\n",
    "    Trains and evaluates a Support Vector Machine (SVM) model on the provided kernel.\n",
    "\n",
    "    It employs a stratified k-fold cross-validation strategy with repeated splits\n",
    "    to ensure robustness and reliability of the results.\n",
    "\n",
    "    Parameters:\n",
    "        K (np.ndarray): The precomputed kernel matrix.\n",
    "        targets (list[int]): A list of target values for the training data.\n",
    "        seed1 (int, optional): The random state used for stratified k-fold cross-validation.\n",
    "            Defaults to None.\n",
    "        seed2 (int, optional): The random state used for the SVM estimator. Defaults to None.\n",
    "\n",
    "    Returns:\n",
    "        MLResults: An instance containing the mean and standard deviation of F1 score and\n",
    "            balanced accuracy.\n",
    "    \"\"\"\n",
    "    C_list = np.linspace(0.001, 100, 100)\n",
    "    param_grid = {\"C\": C_list}\n",
    "    scoring = {\"balanced_accuracy\": make_scorer(balanced_accuracy_score),\n",
    "                \"f1_score\": make_scorer(f1_score, average=\"weighted\")\n",
    "                }\n",
    "\n",
    "    skf = RepeatedStratifiedKFold(n_splits=5, n_repeats=10, random_state=seed1)\n",
    "\n",
    "\n",
    "    estimator = svm.SVC(kernel=\"precomputed\", random_state=seed2)\n",
    "    grid_search = GridSearchCV(estimator, param_grid, scoring=scoring,\n",
    "                                    cv=skf, refit=False, n_jobs=8)\n",
    "    \n",
    "\n",
    "    result = grid_search.fit(K, targets).cv_results_\n",
    "    max_f1_score = np.mean(result[\"mean_test_f1_score\"]) \n",
    "    final_f1_std = np.mean(result[\"std_test_f1_score\"])\n",
    "    max_bal_acc = np.mean(result[\"mean_test_balanced_accuracy\"]) \n",
    "    std_bal_acc = np.mean(result[\"std_test_balanced_accuracy\"])\n",
    "    final_score = MLResults(f1_score=max_f1_score, std_f1_score=final_f1_std,\n",
    "                            balanced_acc=max_bal_acc, std_balanced_acc=std_bal_acc)\n",
    "    return final_score"
   ]
  },
  {
   "cell_type": "code",
   "execution_count": 18,
   "metadata": {},
   "outputs": [],
   "source": [
    "results = train_and_evaluate_ml_model(K=train_kernel, targets=y_tot, seed1=42, seed2=42)"
   ]
  },
  {
   "cell_type": "markdown",
   "metadata": {},
   "source": [
    "### Results\n",
    "\n",
    "We are using two metrics:\n",
    "- The F1 score is a way to measure how well a model performs, especially when the data is uneven (e.g., more examples of one category than another). It combines two important aspects: how precise the model is (how many of the predicted positives are actually positive) and how well it captures all the actual positives (recall). It provides a single number that balances these two aspects, making it useful for evaluating performance in real-world scenarios where some categories are much more common than others.\n",
    "\n",
    "- Balanced accuracy is a method to evaluate a model's performance fairly, even when the data is imbalanced (e.g., one category is much more frequent than others). Instead of just looking at overall accuracy, which can be misleading in such cases, balanced accuracy considers how well the model performs for each category separately and then averages these performances. This ensures that the evaluation is not skewed by the more common categories, giving a more honest picture of the model's effectiveness across all categories.\n",
    "\n",
    "\n",
    "Inside the `train_and_evaluate_ml_model`function, we split our data multiple times to ensure each fold is representative of the overall class distribution, helping to mitigate bias. The mean value and standard deviation (std) of each metrics from this process provide an average performance measure and the variability of that performance across different data splits, giving you a robust understanding of your model's consistency and reliability.\n"
   ]
  },
  {
   "cell_type": "code",
   "execution_count": 19,
   "metadata": {},
   "outputs": [
    {
     "name": "stdout",
     "output_type": "stream",
     "text": [
      "Mean F1 score = 0.5657161375287069\n",
      "Standard deviation of F1 score = 0.05822871989019115\n",
      "Mean balanced accuracy 0.5539350131752306\n",
      "Standard deviation of balanced accuracy 0.05879418899293764\n"
     ]
    }
   ],
   "source": [
    "print(f\"Mean F1 score = {results.f1_score}\")\n",
    "print(f\"Standard deviation of F1 score = {results.std_f1_score}\")\n",
    "print(f\"Mean balanced accuracy {results.balanced_acc}\")\n",
    "print(f\"Standard deviation of balanced accuracy {results.std_balanced_acc}\")"
   ]
  }
 ],
 "metadata": {
  "kernelspec": {
   "display_name": "quantum-evolution-kernel",
   "language": "python",
   "name": "python3"
  },
  "language_info": {
   "codemirror_mode": {
    "name": "ipython",
    "version": 3
   },
   "file_extension": ".py",
   "mimetype": "text/x-python",
   "name": "python",
   "nbconvert_exporter": "python",
   "pygments_lexer": "ipython3",
   "version": "3.12.3"
  }
 },
 "nbformat": 4,
 "nbformat_minor": 4
}
