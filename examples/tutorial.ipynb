{
 "cells": [
  {
   "cell_type": "markdown",
   "metadata": {},
   "source": [
    "# QEK from A to Z\n",
    "\n",
    "This notebook reproduces the results of the [QEK paper](https://journals.aps.org/pra/abstract/10.1103/PhysRevA.107.042615).\n",
    "\n",
    "At the end, you will be able to:\n",
    "1. Extract the embeddings of a molecular dataset\n",
    "2. Compile these embeddings into Pulse sequences for use on a Quantum Device or an amulator.\n",
    "3. Run the Pulse sequences on a Quantum Device or an emulator.\n",
    "\n",
    "\n",
    "We also provide a another [machine learning tutorial](ml_tutorial.ipynb) to train an SVM with the QEK (Quantum Evolution Kernel) kernel and benchmark the performance reported in the paper."
   ]
  },
  {
   "cell_type": "code",
   "execution_count": null,
   "metadata": {},
   "outputs": [],
   "source": [
    "\n",
    "import torch_geometric.datasets as pyg_dataset"
   ]
  },
  {
   "cell_type": "markdown",
   "metadata": {},
   "source": [
    "## Dataset preparation\n",
    "\n",
    "As in any machine learning task, we first need to load and prepare data. QEK can work with many types of graphs, including molecular graphs. For this tutorial, we will use the PTC-FM dataset, which contains such molecular graphs."
   ]
  },
  {
   "cell_type": "code",
   "execution_count": null,
   "metadata": {},
   "outputs": [],
   "source": [
    "# Load the original PTC-FM dataset\n",
    "og_ptcfm = [data for data in pyg_dataset.TUDataset(root=\"dataset\", name=\"PTC_FM\")]\n",
    "\n",
    "display(\"Loaded %s samples\" % (len(og_ptcfm), ))"
   ]
  },
  {
   "cell_type": "markdown",
   "metadata": {},
   "source": [
    "To extract machine-learning features from our dataset, we will need to configure a feature extractor. This library provides several feature extractors to either make use of a physical quantum device (QPU), or a variety of emulators.\n",
    "\n",
    "To configure a feature extractor, we will need to give it a _compiler_, whose task is to take a list of graphs, extract embeddings and compile these embeddings to _sequences of pulses_, the format that can be executed  by either a QPU or an emulator. For this tutorial, our dataset is composed of molecule graphs, so we will use the `MoleculeGraphCompiler`:"
   ]
  },
  {
   "cell_type": "code",
   "execution_count": null,
   "metadata": {},
   "outputs": [],
   "source": [
    "import qek.data.graphs as qek_graphs\n",
    "\n",
    "compiler = qek_graphs.MoleculeGraphCompiler()"
   ]
  },
  {
   "cell_type": "markdown",
   "metadata": {},
   "source": [
    "This library provides other compilers from other formats of graphs."
   ]
  },
  {
   "cell_type": "markdown",
   "metadata": {},
   "source": [
    "# Creating and executing a feature extractor from an emulator\n",
    "\n",
    "The easiest way to process a graph is to compile and execute it for an emulator. QEK is built on top of Pulser, which provides several emulators. The simplest of these emulators is the `QutipEmulator`, which QEK uses for the `QutipExtractor`:"
   ]
  },
  {
   "cell_type": "code",
   "execution_count": null,
   "metadata": {},
   "outputs": [],
   "source": [
    "import qek.data.extractors as qek_extractors\n",
    "\n",
    "# Use the Qutip Extractor.\n",
    "extractor = qek_extractors.QutipExtractor(\n",
    "    # Once computing is complete, data will be saved in this file.\n",
    "    path=\"saved_data.json\",\n",
    "    compiler=compiler\n",
    ")\n",
    "\n",
    "# Add the graphs using the compiler we've picked previously.\n",
    "extractor.add_graphs(graphs=og_ptcfm)\n",
    "\n",
    "# We may now compile them.\n",
    "compiled = extractor.compile()\n",
    "display(\"Compiled %s sequences\" % (len(compiled), ))"
   ]
  },
  {
   "cell_type": "markdown",
   "metadata": {},
   "source": [
    "As you can see, the number of sequences compiled is lower than the number of samples loaded. Some of this is due to limitations within the algorithm (not all graphs can be efficiently laid out for execution on a Quantum Device), while others are due to the limitations of the emulator we target (which at the time of this writing is limited to 50 qubits).\n",
    "\n",
    "We may now run the extraction on the emulator:"
   ]
  },
  {
   "cell_type": "code",
   "execution_count": null,
   "metadata": {},
   "outputs": [],
   "source": [
    "# Limit the number of qubits for this run, for performance reasons.\n",
    "# You can increase this value to higher number of qubits, but this\n",
    "# notebook will take longer to execute and may run out of memory.\n",
    "max_qubits = 5\n",
    "processed_dataset = await extractor.run(max_qubits=max_qubits) # Don't forget to `await`!\n",
    "display(\"Extracted features from %s samples\"% (len(processed_dataset), ))"
   ]
  },
  {
   "cell_type": "markdown",
   "metadata": {},
   "source": [
    "If you wish to extract features from more samples, feel free to increase the value of `max_qubits` above. However, you will soon run into limitations of a quantum emulator, and possibly crash this notebook. At this point, you have other options, such as using `EmuMPSExtractor` instead of `QutipExtractor`, a more recent emulator that features much better performance in most cases, or you can run the extraction on a physical QPU."
   ]
  },
  {
   "cell_type": "markdown",
   "metadata": {},
   "source": [
    "# Creating and executing a feature extractor on a physical QPU\n",
    "\n",
    "Once you have checked that low qubit sequences provide the results you expect on an emulator, you will generally want to move to a QPU.\n",
    "For this, you will need either physical access to a QPU, or an account with [PASQAL Cloud](https://docs.pasqal.cloud), which provides\n",
    "you remote access to QPUs built and hosted by Pasqal. In this section, we'll see how to use the latter.\n",
    "\n",
    "If you don't have an account, just skip to the next section!"
   ]
  },
  {
   "cell_type": "code",
   "execution_count": null,
   "metadata": {},
   "outputs": [],
   "source": [
    "HAVE_PASQAL_ACCOUNT = False # If you have a PASQAL Cloud account, fill in the details and set this to `True`.\n",
    "\n",
    "if HAVE_PASQAL_ACCOUNT:\n",
    "    processed_dataset = []\n",
    "\n",
    "    # Use the QPU Extractor.\n",
    "    extractor = qek_extractors.QPUExtractor(\n",
    "        # Once computing is complete, data will be saved in this file.\n",
    "        path=\"saved_data.json\",\n",
    "        compiler = compiler,\n",
    "        project_id = \"XXXX\", # Replace this with your project id on the PASQAL Cloud\n",
    "        username = \"XXX\",    # Replace this with your username on PASQAL Cloud\n",
    "        password = None,     # Replace this with your password on PASQAL Cloud or enter it on the command-line\n",
    "    )\n",
    "\n",
    "    # Add the graphs, exactly as above.\n",
    "    extractor.add_graphs(graphs=og_ptcfm)\n",
    "\n",
    "    # We may now compile, exactly as above.\n",
    "    compiled = extractor.compile()\n",
    "    display(\"Compiled %s sequences\" % (len(compiled), ))\n",
    "\n",
    "    # Launch the execution.\n",
    "    execution = extractor.run()\n",
    "    display(\"Work enqueued with ids %s\" % (extractor.batch_ids, ))\n",
    "\n",
    "    # ...and wait for the results.\n",
    "    processed_dataset = await execution\n",
    "    display(\"Extracted features from %s samples\"% (len(processed_dataset), ))"
   ]
  },
  {
   "cell_type": "markdown",
   "metadata": {},
   "source": [
    "As you can see, the process is essentially identical to executing with an emulator. Note that, as of this\n",
    "writing, the waiting line to access a QPU can be very long (typically several hours).\n",
    "\n",
    "There are two main ways to deal with this:\n",
    "\n",
    "1. `QPUExtractor` can be attached to an ongoing job from batch ids, so that you can resume your work\n",
    "    e.g. after turning off your computer.\n",
    "2. Pasqal CLOUD offers access to high-performance hardware-based emulators, with dramatically\n",
    "    shorter waiting lines.\n",
    "\n",
    "See [the documentation](https://pqs.pages.pasqal.com/quantum-evolution-kernel/) for more details."
   ]
  },
  {
   "cell_type": "markdown",
   "metadata": {},
   "source": [
    "## ...or using the provided dataset\n",
    "\n",
    "For this notebook, instead of spending hours running the simulator on your computer, we're going to skip\n",
    "this step and load on we're going to cheat and load the results, which are conveniently stored in `ptcfm_processed_dataset.json`."
   ]
  },
  {
   "cell_type": "code",
   "execution_count": null,
   "metadata": {},
   "outputs": [],
   "source": [
    "import qek.data.dataset as qek_dataset\n",
    "processed_dataset = qek_dataset.load_dataset(file_path=\"ptcfm_processed_dataset.json\")\n",
    "print(f\"Size of the quantum compatible dataset = {len(processed_dataset)}\")"
   ]
  },
  {
   "cell_type": "markdown",
   "metadata": {},
   "source": [
    "## A look at the results"
   ]
  },
  {
   "cell_type": "markdown",
   "metadata": {},
   "source": [
    "We can check the sequence for one of the samples:"
   ]
  },
  {
   "cell_type": "code",
   "execution_count": null,
   "metadata": {},
   "outputs": [],
   "source": [
    "dataset_example = processed_dataset[64]\n",
    "dataset_example.draw_sequence()"
   ]
  },
  {
   "cell_type": "code",
   "execution_count": null,
   "metadata": {},
   "outputs": [],
   "source": [
    "dataset_example.draw_register()"
   ]
  },
  {
   "cell_type": "markdown",
   "metadata": {},
   "source": [
    "The results of executing the embedding on the Quantum Device are in field `state_dict`:"
   ]
  },
  {
   "cell_type": "code",
   "execution_count": null,
   "metadata": {},
   "outputs": [],
   "source": [
    "display(dataset_example.state_dict)\n",
    "print(f\"Total number of samples: {sum(dataset_example.state_dict.values())}\")"
   ]
  },
  {
   "cell_type": "markdown",
   "metadata": {},
   "source": [
    "This dictionary represents an approximation of the quantum state of the device for this graph after completion of the algorithm.\n",
    "\n",
    "- each of the keys represents one possible state for the register (which represents the graph), with each qubit (which represents a single node) being in state `0` or `1`;\n",
    "- the corresponding value is the number of samples observed with this specific state of the register.\n",
    "\n",
    "In this example, for instance, we can see that the state observed most frequently is `10000001010`, with 43/1000 samples.\n"
   ]
  }
 ],
 "metadata": {
  "kernelspec": {
   "display_name": "quantum-evolution-kernel",
   "language": "python",
   "name": "python3"
  },
  "language_info": {
   "codemirror_mode": {
    "name": "ipython",
    "version": 3
   },
   "file_extension": ".py",
   "mimetype": "text/x-python",
   "name": "python",
   "nbconvert_exporter": "python",
   "pygments_lexer": "ipython3",
   "version": "3.10.15"
  }
 },
 "nbformat": 4,
 "nbformat_minor": 4
}
